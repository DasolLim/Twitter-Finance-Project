print("Hello, World")





# pandas, matplotlib, numpy, seaborn
# import databases as dataframes

# regex to remove the t.co links

# expoloratory data analysis -> find the most popular tweets (company wise), when the tweets were published
# basic facts on databse: number of unique companies mentioned, number of tweets












